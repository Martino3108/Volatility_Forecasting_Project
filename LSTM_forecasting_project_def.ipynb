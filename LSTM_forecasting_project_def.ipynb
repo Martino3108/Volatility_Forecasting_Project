{
 "cells": [
  {
   "cell_type": "code",
   "execution_count": null,
   "metadata": {
    "execution": {
     "iopub.execute_input": "2025-05-18T07:05:33.108157Z",
     "iopub.status.busy": "2025-05-18T07:05:33.107549Z",
     "iopub.status.idle": "2025-05-18T07:05:35.882404Z",
     "shell.execute_reply": "2025-05-18T07:05:35.881703Z",
     "shell.execute_reply.started": "2025-05-18T07:05:33.108130Z"
    },
    "trusted": true
   },
   "outputs": [
    {
     "data": {
      "text/html": [
       "<div>\n",
       "<style scoped>\n",
       "    .dataframe tbody tr th:only-of-type {\n",
       "        vertical-align: middle;\n",
       "    }\n",
       "\n",
       "    .dataframe tbody tr th {\n",
       "        vertical-align: top;\n",
       "    }\n",
       "\n",
       "    .dataframe thead th {\n",
       "        text-align: right;\n",
       "    }\n",
       "</style>\n",
       "<table border=\"1\" class=\"dataframe\">\n",
       "  <thead>\n",
       "    <tr style=\"text-align: right;\">\n",
       "      <th></th>\n",
       "      <th>stock_id</th>\n",
       "      <th>time_id</th>\n",
       "      <th>target</th>\n",
       "    </tr>\n",
       "  </thead>\n",
       "  <tbody>\n",
       "    <tr>\n",
       "      <th>0</th>\n",
       "      <td>0</td>\n",
       "      <td>5</td>\n",
       "      <td>0.004136</td>\n",
       "    </tr>\n",
       "    <tr>\n",
       "      <th>1</th>\n",
       "      <td>0</td>\n",
       "      <td>11</td>\n",
       "      <td>0.001445</td>\n",
       "    </tr>\n",
       "    <tr>\n",
       "      <th>2</th>\n",
       "      <td>0</td>\n",
       "      <td>16</td>\n",
       "      <td>0.002168</td>\n",
       "    </tr>\n",
       "    <tr>\n",
       "      <th>3</th>\n",
       "      <td>0</td>\n",
       "      <td>31</td>\n",
       "      <td>0.002195</td>\n",
       "    </tr>\n",
       "    <tr>\n",
       "      <th>4</th>\n",
       "      <td>0</td>\n",
       "      <td>62</td>\n",
       "      <td>0.001747</td>\n",
       "    </tr>\n",
       "  </tbody>\n",
       "</table>\n",
       "</div>"
      ],
      "text/plain": [
       "   stock_id  time_id    target\n",
       "0         0        5  0.004136\n",
       "1         0       11  0.001445\n",
       "2         0       16  0.002168\n",
       "3         0       31  0.002195\n",
       "4         0       62  0.001747"
      ]
     },
     "execution_count": 2,
     "metadata": {},
     "output_type": "execute_result"
    }
   ],
   "source": [
    "#import dataset with target volatility for each time id and stock id\n",
    "import pandas as pd\n",
    "import numpy as np\n",
    "import plotly.express as px\n",
    "train = pd.read_csv('train.csv')\n",
    "train.head()"
   ]
  },
  {
   "cell_type": "code",
   "execution_count": null,
   "metadata": {
    "execution": {
     "iopub.execute_input": "2025-05-18T07:05:35.884328Z",
     "iopub.status.busy": "2025-05-18T07:05:35.883860Z",
     "iopub.status.idle": "2025-05-18T07:05:37.123615Z",
     "shell.execute_reply": "2025-05-18T07:05:37.123077Z",
     "shell.execute_reply.started": "2025-05-18T07:05:35.884310Z"
    },
    "trusted": true
   },
   "outputs": [],
   "source": [
    "#import the whole book data\n",
    "import os\n",
    "from sklearn.metrics import r2_score\n",
    "import glob\n",
    "list_order_book_file_train = glob.glob('book_train.parquet/*')\n"
   ]
  },
  {
   "cell_type": "code",
   "execution_count": 6,
   "metadata": {
    "execution": {
     "iopub.execute_input": "2025-05-18T07:05:37.124891Z",
     "iopub.status.busy": "2025-05-18T07:05:37.124413Z",
     "iopub.status.idle": "2025-05-18T07:05:37.129094Z",
     "shell.execute_reply": "2025-05-18T07:05:37.128419Z",
     "shell.execute_reply.started": "2025-05-18T07:05:37.124866Z"
    },
    "trusted": true
   },
   "outputs": [
    {
     "name": "stdout",
     "output_type": "stream",
     "text": [
      "['book_train.parquet/stock_id=17', 'book_train.parquet/stock_id=28', 'book_train.parquet/stock_id=10', 'book_train.parquet/stock_id=26', 'book_train.parquet/stock_id=19', 'book_train.parquet/stock_id=21', 'book_train.parquet/stock_id=75', 'book_train.parquet/stock_id=81', 'book_train.parquet/stock_id=86', 'book_train.parquet/stock_id=72', 'book_train.parquet/stock_id=44', 'book_train.parquet/stock_id=88', 'book_train.parquet/stock_id=43', 'book_train.parquet/stock_id=20', 'book_train.parquet/stock_id=27', 'book_train.parquet/stock_id=18', 'book_train.parquet/stock_id=11', 'book_train.parquet/stock_id=16', 'book_train.parquet/stock_id=29', 'book_train.parquet/stock_id=89', 'book_train.parquet/stock_id=42', 'book_train.parquet/stock_id=73', 'book_train.parquet/stock_id=87', 'book_train.parquet/stock_id=80', 'book_train.parquet/stock_id=74', 'book_train.parquet/stock_id=103', 'book_train.parquet/stock_id=104', 'book_train.parquet/stock_id=105', 'book_train.parquet/stock_id=102', 'book_train.parquet/stock_id=120', 'book_train.parquet/stock_id=118', 'book_train.parquet/stock_id=111', 'book_train.parquet/stock_id=116', 'book_train.parquet/stock_id=110', 'book_train.parquet/stock_id=119', 'book_train.parquet/stock_id=126', 'book_train.parquet/stock_id=7', 'book_train.parquet/stock_id=56', 'book_train.parquet/stock_id=69', 'book_train.parquet/stock_id=51', 'book_train.parquet/stock_id=0', 'book_train.parquet/stock_id=67', 'book_train.parquet/stock_id=93', 'book_train.parquet/stock_id=58', 'book_train.parquet/stock_id=9', 'book_train.parquet/stock_id=94', 'book_train.parquet/stock_id=60', 'book_train.parquet/stock_id=34', 'book_train.parquet/stock_id=33', 'book_train.parquet/stock_id=61', 'book_train.parquet/stock_id=95', 'book_train.parquet/stock_id=66', 'book_train.parquet/stock_id=8', 'book_train.parquet/stock_id=59', 'book_train.parquet/stock_id=1', 'book_train.parquet/stock_id=50', 'book_train.parquet/stock_id=6', 'book_train.parquet/stock_id=68', 'book_train.parquet/stock_id=32', 'book_train.parquet/stock_id=35', 'book_train.parquet/stock_id=85', 'book_train.parquet/stock_id=76', 'book_train.parquet/stock_id=82', 'book_train.parquet/stock_id=40', 'book_train.parquet/stock_id=78', 'book_train.parquet/stock_id=47', 'book_train.parquet/stock_id=13', 'book_train.parquet/stock_id=14', 'book_train.parquet/stock_id=22', 'book_train.parquet/stock_id=46', 'book_train.parquet/stock_id=41', 'book_train.parquet/stock_id=48', 'book_train.parquet/stock_id=83', 'book_train.parquet/stock_id=77', 'book_train.parquet/stock_id=70', 'book_train.parquet/stock_id=84', 'book_train.parquet/stock_id=23', 'book_train.parquet/stock_id=15', 'book_train.parquet/stock_id=107', 'book_train.parquet/stock_id=100', 'book_train.parquet/stock_id=109', 'book_train.parquet/stock_id=108', 'book_train.parquet/stock_id=101', 'book_train.parquet/stock_id=124', 'book_train.parquet/stock_id=123', 'book_train.parquet/stock_id=115', 'book_train.parquet/stock_id=112', 'book_train.parquet/stock_id=113', 'book_train.parquet/stock_id=114', 'book_train.parquet/stock_id=122', 'book_train.parquet/stock_id=125', 'book_train.parquet/stock_id=30', 'book_train.parquet/stock_id=37', 'book_train.parquet/stock_id=39', 'book_train.parquet/stock_id=52', 'book_train.parquet/stock_id=3', 'book_train.parquet/stock_id=99', 'book_train.parquet/stock_id=4', 'book_train.parquet/stock_id=55', 'book_train.parquet/stock_id=97', 'book_train.parquet/stock_id=63', 'book_train.parquet/stock_id=64', 'book_train.parquet/stock_id=90', 'book_train.parquet/stock_id=38', 'book_train.parquet/stock_id=36', 'book_train.parquet/stock_id=31', 'book_train.parquet/stock_id=62', 'book_train.parquet/stock_id=96', 'book_train.parquet/stock_id=5', 'book_train.parquet/stock_id=2', 'book_train.parquet/stock_id=53', 'book_train.parquet/stock_id=98']\n"
     ]
    }
   ],
   "source": [
    "print(list_order_book_file_train)"
   ]
  },
  {
   "cell_type": "code",
   "execution_count": 7,
   "metadata": {
    "execution": {
     "iopub.execute_input": "2025-05-18T07:05:37.130086Z",
     "iopub.status.busy": "2025-05-18T07:05:37.129850Z",
     "iopub.status.idle": "2025-05-18T07:05:37.147419Z",
     "shell.execute_reply": "2025-05-18T07:05:37.146774Z",
     "shell.execute_reply.started": "2025-05-18T07:05:37.130066Z"
    },
    "trusted": true
   },
   "outputs": [],
   "source": [
    "def log_return(list_stock_prices):\n",
    "    return np.log(list_stock_prices).diff() "
   ]
  },
  {
   "cell_type": "code",
   "execution_count": null,
   "metadata": {
    "execution": {
     "iopub.execute_input": "2025-05-18T07:05:37.149332Z",
     "iopub.status.busy": "2025-05-18T07:05:37.149142Z",
     "iopub.status.idle": "2025-05-18T07:05:38.366635Z",
     "shell.execute_reply": "2025-05-18T07:05:38.365723Z",
     "shell.execute_reply.started": "2025-05-18T07:05:37.149318Z"
    },
    "trusted": true
   },
   "outputs": [],
   "source": [
    "#functions to compute skewness and kourtosis\n",
    "from numba import njit\n",
    "\n",
    "@njit\n",
    "def compute_skewness(arr):\n",
    "    n = len(arr)\n",
    "    mean_val = np.mean(arr)\n",
    "    var_val = np.sum((arr - mean_val) ** 2) / (n - 1)\n",
    "    std_val = np.sqrt(var_val)\n",
    "    if std_val == 0:\n",
    "        return 0.0\n",
    "    skew = np.sum(((arr - mean_val) / std_val) ** 3) / n\n",
    "    return skew\n",
    "\n",
    "@njit\n",
    "def compute_kurtosis(arr):\n",
    "    n = len(arr)\n",
    "    mean_val = np.mean(arr)\n",
    "    var_val = np.sum((arr - mean_val) ** 2) / (n - 1)\n",
    "    std_val = np.sqrt(var_val)\n",
    "    if std_val == 0:\n",
    "        return 0.0\n",
    "    kurt = np.sum(((arr - mean_val) / std_val) ** 4) / n\n",
    "    return kurt\n",
    "\n",
    "\n",
    "@njit\n",
    "def rolling_stat_min(arr, window, moment, min_periods):\n",
    "    n_obs = len(arr)\n",
    "    result = np.full(n_obs, np.nan)\n",
    "\n",
    "    for i in range(n_obs):\n",
    "        start = max(0, i - window + 1)\n",
    "        window_slice = arr[start : i + 1]\n",
    "        if len(window_slice) >= min_periods:\n",
    "            if moment == 3:\n",
    "                result[i] = compute_skewness(window_slice)\n",
    "            elif moment == 4:\n",
    "                result[i] = compute_kurtosis(window_slice)\n",
    "    return result"
   ]
  },
  {
   "cell_type": "code",
   "execution_count": null,
   "metadata": {
    "execution": {
     "iopub.execute_input": "2025-05-18T07:05:38.367969Z",
     "iopub.status.busy": "2025-05-18T07:05:38.367677Z",
     "iopub.status.idle": "2025-05-18T07:05:38.375051Z",
     "shell.execute_reply": "2025-05-18T07:05:38.374330Z",
     "shell.execute_reply.started": "2025-05-18T07:05:38.367942Z"
    },
    "trusted": true
   },
   "outputs": [],
   "source": [
    "#compute features, for each time id we have six feature vectors \n",
    "def features_per_timeid(file_path, stock_id):\n",
    "    df = pd.read_parquet(file_path)\n",
    "\n",
    "    # WAP e log_return\n",
    "    df['wap'] = (df['bid_price1'] * df['ask_size1'] + df['ask_price1'] * df['bid_size1']) / (df['bid_size1'] + df['ask_size1'] + 1e-6)\n",
    "    df['log_return'] = df.groupby(['time_id'])['wap'].transform(log_return)\n",
    "\n",
    "    # Spread\n",
    "    df['spread'] = df['ask_price1'] - df['bid_price1']\n",
    "\n",
    "    # Rolling volatility 10 ticks\n",
    "    df['rolling_vol'] = df.groupby('time_id')['log_return'].transform(lambda x: x.rolling(window=10).std())\n",
    "\n",
    "    # Rolling volatility 50 ticks\n",
    "    df['rolling_vol_50'] = df.groupby('time_id')['log_return'].transform(lambda x: x.rolling(window=50, min_periods=10).std())\n",
    "\n",
    "    # Rolling kurtosis 50 ticks\n",
    "    df['rolling_kurtosis_50'] = df.groupby('time_id')['log_return'].transform(\n",
    "    lambda x: pd.Series(rolling_stat_min(x.values, 50, moment=4, min_periods=10), index=x.index))\n",
    "\n",
    "    df.fillna(0, inplace=True)\n",
    "    features_list = [ 'log_return', 'spread', 'rolling_vol', 'rolling_vol_50', 'rolling_kurtosis_50','seconds_in_bucket']\n",
    "    \n",
    "    features_dict = {\n",
    "    f'stockid{stock_id}_timeid{time_id}': group[features_list].values[10:]\n",
    "    for time_id, group in df.groupby('time_id')}\n",
    "    return features_dict\n",
    "\n"
   ]
  },
  {
   "cell_type": "code",
   "execution_count": null,
   "metadata": {
    "execution": {
     "iopub.execute_input": "2025-05-18T07:05:38.376204Z",
     "iopub.status.busy": "2025-05-18T07:05:38.375900Z",
     "iopub.status.idle": "2025-05-18T07:05:38.428357Z",
     "shell.execute_reply": "2025-05-18T07:05:38.427675Z",
     "shell.execute_reply.started": "2025-05-18T07:05:38.376176Z"
    },
    "trusted": true
   },
   "outputs": [],
   "source": [
    "#iterate for each stock\n",
    "def features_per_stock(list_file):\n",
    "    all_features = {}\n",
    "\n",
    "    for file in list_file:\n",
    "        stock_id = int(os.path.basename(file).split('=')[1].split('.')[0])\n",
    "        one_stock = features_per_timeid(file, stock_id)\n",
    "        all_features.update(one_stock)\n",
    "\n",
    "    return all_features\n"
   ]
  },
  {
   "cell_type": "code",
   "execution_count": null,
   "metadata": {
    "execution": {
     "iopub.execute_input": "2025-05-18T07:05:38.429250Z",
     "iopub.status.busy": "2025-05-18T07:05:38.429038Z",
     "iopub.status.idle": "2025-05-18T07:15:49.965910Z",
     "shell.execute_reply": "2025-05-18T07:15:49.965152Z",
     "shell.execute_reply.started": "2025-05-18T07:05:38.429232Z"
    },
    "trusted": true
   },
   "outputs": [],
   "source": [
    "#create a dictionary with all features\n",
    "all_features = features_per_stock(list_file=list_order_book_file_train)"
   ]
  },
  {
   "cell_type": "code",
   "execution_count": null,
   "metadata": {
    "execution": {
     "iopub.execute_input": "2025-05-18T07:15:50.061395Z",
     "iopub.status.busy": "2025-05-18T07:15:50.061115Z",
     "iopub.status.idle": "2025-05-18T07:16:03.885837Z",
     "shell.execute_reply": "2025-05-18T07:16:03.884962Z",
     "shell.execute_reply.started": "2025-05-18T07:15:50.061367Z"
    },
    "trusted": true
   },
   "outputs": [],
   "source": [
    "# Create a dictionary of targets for valid (stock_id, time_id) keys present in all_features\n",
    "valid_keys = set(all_features.keys())\n",
    "\n",
    "label_dict = {\n",
    "    f'stockid{int(row[\"stock_id\"])}_timeid{int(row[\"time_id\"])}': row['target']\n",
    "    for _, row in train.iterrows()\n",
    "    if f'stockid{int(row[\"stock_id\"])}_timeid{int(row[\"time_id\"])}' in valid_keys\n",
    "}\n"
   ]
  },
  {
   "cell_type": "code",
   "execution_count": null,
   "metadata": {
    "execution": {
     "iopub.execute_input": "2025-05-18T07:16:08.139280Z",
     "iopub.status.busy": "2025-05-18T07:16:08.138698Z",
     "iopub.status.idle": "2025-05-18T07:16:08.455470Z",
     "shell.execute_reply": "2025-05-18T07:16:08.454926Z",
     "shell.execute_reply.started": "2025-05-18T07:16:08.139247Z"
    },
    "trusted": true
   },
   "outputs": [],
   "source": [
    "# Build input sequences and targets for all keys that have labels in label_dict\n",
    "import torch\n",
    "import torch.nn as nn\n",
    "import torch.optim as optim\n",
    "from torch.utils.data import DataLoader\n",
    "from torch.nn.utils.rnn import pad_sequence, pack_padded_sequence\n",
    "\n",
    "X_sequences = []\n",
    "sequence_lengths = []\n",
    "y_targets = []\n",
    "\n",
    "for key, features in all_features.items():\n",
    "    if key not in label_dict:\n",
    "        continue\n",
    "    X_sequences.append(features)\n",
    "    sequence_lengths.append(len(features))\n",
    "    y_targets.append(label_dict[key])"
   ]
  },
  {
   "cell_type": "code",
   "execution_count": null,
   "metadata": {
    "execution": {
     "iopub.execute_input": "2025-05-18T07:16:08.456422Z",
     "iopub.status.busy": "2025-05-18T07:16:08.456170Z",
     "iopub.status.idle": "2025-05-18T07:16:08.562996Z",
     "shell.execute_reply": "2025-05-18T07:16:08.562076Z",
     "shell.execute_reply.started": "2025-05-18T07:16:08.456401Z"
    },
    "trusted": true
   },
   "outputs": [],
   "source": [
    "# Custom collate function to pad sequences and convert batch data to tensors\n",
    "# Prepare the dataset as a list of (sequence, target, length) tuples\n",
    "def collate_fn(batch):\n",
    "    sequences, targets, lengths = zip(*batch)\n",
    "    sequences = [torch.tensor(seq).float() for seq in sequences]\n",
    "    sequences_padded = pad_sequence(sequences, batch_first=True)  \n",
    "    targets = torch.tensor(targets).float()\n",
    "    lengths = torch.tensor(lengths)\n",
    "    return sequences_padded, targets, lengths\n",
    "\n",
    "\n",
    "dataset = list(zip(X_sequences, y_targets, sequence_lengths))\n"
   ]
  },
  {
   "cell_type": "code",
   "execution_count": null,
   "metadata": {
    "execution": {
     "iopub.execute_input": "2025-05-18T07:16:08.566680Z",
     "iopub.status.busy": "2025-05-18T07:16:08.566431Z",
     "iopub.status.idle": "2025-05-18T07:16:08.716163Z",
     "shell.execute_reply": "2025-05-18T07:16:08.715429Z",
     "shell.execute_reply.started": "2025-05-18T07:16:08.566661Z"
    },
    "trusted": true
   },
   "outputs": [
    {
     "name": "stdout",
     "output_type": "stream",
     "text": [
      "Train: 300252, Validation: 64340, Test: 64340\n"
     ]
    }
   ],
   "source": [
    "from sklearn.model_selection import train_test_split\n",
    "\n",
    "# Train \n",
    "train_data, temp_data = train_test_split(dataset, test_size=0.3, random_state=42)\n",
    "\n",
    "# Validation, test\n",
    "val_data, test_data = train_test_split(temp_data, test_size=0.5, random_state=42)\n",
    "\n",
    "print(f\"Train: {len(train_data)}, Validation: {len(val_data)}, Test: {len(test_data)}\")"
   ]
  },
  {
   "cell_type": "code",
   "execution_count": null,
   "metadata": {
    "execution": {
     "iopub.execute_input": "2025-05-18T07:16:08.717262Z",
     "iopub.status.busy": "2025-05-18T07:16:08.716943Z",
     "iopub.status.idle": "2025-05-18T07:17:19.576855Z",
     "shell.execute_reply": "2025-05-18T07:17:19.575905Z",
     "shell.execute_reply.started": "2025-05-18T07:16:08.717244Z"
    },
    "trusted": true
   },
   "outputs": [],
   "source": [
    "from sklearn.preprocessing import StandardScaler\n",
    "\n",
    "scaler = StandardScaler()\n",
    "\n",
    "for X_seq, _, _ in train_data:\n",
    "    scaler.partial_fit(X_seq) "
   ]
  },
  {
   "cell_type": "code",
   "execution_count": null,
   "metadata": {
    "execution": {
     "iopub.execute_input": "2025-05-18T07:17:19.578031Z",
     "iopub.status.busy": "2025-05-18T07:17:19.577759Z",
     "iopub.status.idle": "2025-05-18T07:17:52.516715Z",
     "shell.execute_reply": "2025-05-18T07:17:52.515936Z",
     "shell.execute_reply.started": "2025-05-18T07:17:19.578012Z"
    },
    "trusted": true
   },
   "outputs": [],
   "source": [
    "\n",
    "def apply_scaler(data, scaler):\n",
    "    scaled_data = []\n",
    "    for X_seq, target, seq_len in data:\n",
    "        X_seq_scaled = scaler.transform(X_seq)\n",
    "        scaled_data.append((X_seq_scaled, target, seq_len))\n",
    "    return scaled_data\n",
    "\n",
    "# Apply scaling\n",
    "train_data_scaled = apply_scaler(train_data, scaler)\n",
    "val_data_scaled = apply_scaler(val_data, scaler)\n",
    "test_data_scaled = apply_scaler(test_data, scaler)"
   ]
  },
  {
   "cell_type": "code",
   "execution_count": null,
   "metadata": {
    "execution": {
     "iopub.execute_input": "2025-05-18T07:17:52.517777Z",
     "iopub.status.busy": "2025-05-18T07:17:52.517546Z",
     "iopub.status.idle": "2025-05-18T07:17:52.522243Z",
     "shell.execute_reply": "2025-05-18T07:17:52.521504Z",
     "shell.execute_reply.started": "2025-05-18T07:17:52.517752Z"
    },
    "trusted": true
   },
   "outputs": [],
   "source": [
    "#prepare data loaders\n",
    "train_loader = DataLoader(train_data_scaled, batch_size=64, shuffle=True, collate_fn=collate_fn)\n",
    "val_loader = DataLoader(val_data_scaled, batch_size=64, shuffle=False, collate_fn=collate_fn)\n",
    "test_loader = DataLoader(test_data_scaled, batch_size=64, shuffle=False, collate_fn=collate_fn)"
   ]
  },
  {
   "cell_type": "code",
   "execution_count": null,
   "metadata": {
    "execution": {
     "iopub.execute_input": "2025-05-18T07:17:52.523318Z",
     "iopub.status.busy": "2025-05-18T07:17:52.523086Z",
     "iopub.status.idle": "2025-05-18T07:17:52.537449Z",
     "shell.execute_reply": "2025-05-18T07:17:52.536790Z",
     "shell.execute_reply.started": "2025-05-18T07:17:52.523294Z"
    },
    "trusted": true
   },
   "outputs": [],
   "source": [
    "\n",
    "#  LSTM Regressor\n",
    "\n",
    "class LSTMRegressor(nn.Module):\n",
    "    def __init__(self, input_dim, hidden_dim=32, num_layers=4, dropout=0.2):\n",
    "        super(LSTMRegressor, self).__init__()\n",
    "        self.lstm = nn.LSTM(input_dim, hidden_dim, num_layers=num_layers, batch_first=True, dropout=dropout)\n",
    "        self.fc = nn.Linear(hidden_dim, 1)\n",
    "\n",
    "    def forward(self, x_padded, lengths):\n",
    "        packed_input = pack_padded_sequence(x_padded, lengths.cpu(), batch_first=True, enforce_sorted=False)\n",
    "        _, (h_n, _) = self.lstm(packed_input)\n",
    "        h_n = h_n[-1]\n",
    "        output = self.fc(h_n)\n",
    "        return output.squeeze()\n",
    "    "
   ]
  },
  {
   "cell_type": "code",
   "execution_count": null,
   "metadata": {
    "execution": {
     "iopub.execute_input": "2025-05-18T07:17:52.538660Z",
     "iopub.status.busy": "2025-05-18T07:17:52.538216Z",
     "iopub.status.idle": "2025-05-18T07:17:52.551302Z",
     "shell.execute_reply": "2025-05-18T07:17:52.550558Z",
     "shell.execute_reply.started": "2025-05-18T07:17:52.538642Z"
    },
    "trusted": true
   },
   "outputs": [],
   "source": [
    "#define the loss function RMSPE\n",
    "class RMSPELoss(nn.Module):\n",
    "    def __init__(self, eps=1e-6):\n",
    "        super(RMSPELoss, self).__init__()\n",
    "        self.eps = eps\n",
    "\n",
    "    def forward(self, y_pred, y_true):\n",
    "        y_true_safe = torch.clamp(y_true, min=self.eps)\n",
    "        pct_error = (y_pred - y_true_safe) / y_true_safe\n",
    "        loss = torch.sqrt(torch.mean(pct_error ** 2))\n",
    "        return loss"
   ]
  },
  {
   "cell_type": "code",
   "execution_count": null,
   "metadata": {
    "execution": {
     "iopub.execute_input": "2025-05-18T07:17:52.552352Z",
     "iopub.status.busy": "2025-05-18T07:17:52.552119Z",
     "iopub.status.idle": "2025-05-18T12:22:14.415090Z",
     "shell.execute_reply": "2025-05-18T12:22:14.414286Z",
     "shell.execute_reply.started": "2025-05-18T07:17:52.552330Z"
    },
    "trusted": true
   },
   "outputs": [
    {
     "name": "stdout",
     "output_type": "stream",
     "text": [
      "✅ Using device: cuda\n",
      "Epoch 1/50 - Train RMSPE: 0.530617 - Validation RMSPE: 0.432080 - Time: 427.28s\n",
      "✅ Best model saved (Validation RMSPE: 0.432080)\n",
      "Epoch 2/50 - Train RMSPE: 0.315831 - Validation RMSPE: 0.287764 - Time: 429.09s\n",
      "✅ Best model saved (Validation RMSPE: 0.287764)\n",
      "Epoch 3/50 - Train RMSPE: 0.293714 - Validation RMSPE: 0.372423 - Time: 433.04s\n",
      "❗ No improvement for 1 epoch(s)\n",
      "Epoch 4/50 - Train RMSPE: 0.282628 - Validation RMSPE: 0.339870 - Time: 432.19s\n",
      "❗ No improvement for 2 epoch(s)\n",
      "Epoch 5/50 - Train RMSPE: 0.280596 - Validation RMSPE: 0.292341 - Time: 434.11s\n",
      "❗ No improvement for 3 epoch(s)\n",
      "Epoch 6/50 - Train RMSPE: 0.273421 - Validation RMSPE: 0.251003 - Time: 433.17s\n",
      "✅ Best model saved (Validation RMSPE: 0.251003)\n",
      "Epoch 7/50 - Train RMSPE: 0.271447 - Validation RMSPE: 0.255788 - Time: 433.84s\n",
      "❗ No improvement for 1 epoch(s)\n",
      "Epoch 8/50 - Train RMSPE: 0.270340 - Validation RMSPE: 0.245736 - Time: 435.21s\n",
      "✅ Best model saved (Validation RMSPE: 0.245736)\n",
      "Epoch 9/50 - Train RMSPE: 0.264387 - Validation RMSPE: 0.265757 - Time: 435.16s\n",
      "❗ No improvement for 1 epoch(s)\n",
      "Epoch 10/50 - Train RMSPE: 0.264814 - Validation RMSPE: 0.243484 - Time: 434.49s\n",
      "✅ Best model saved (Validation RMSPE: 0.243484)\n",
      "Epoch 11/50 - Train RMSPE: 0.263291 - Validation RMSPE: 0.242406 - Time: 434.77s\n",
      "✅ Best model saved (Validation RMSPE: 0.242406)\n",
      "Epoch 12/50 - Train RMSPE: 0.263620 - Validation RMSPE: 0.261500 - Time: 435.26s\n",
      "❗ No improvement for 1 epoch(s)\n",
      "Epoch 13/50 - Train RMSPE: 0.258132 - Validation RMSPE: 0.303632 - Time: 435.70s\n",
      "❗ No improvement for 2 epoch(s)\n",
      "Epoch 14/50 - Train RMSPE: 0.257963 - Validation RMSPE: 0.257297 - Time: 436.42s\n",
      "❗ No improvement for 3 epoch(s)\n",
      "Epoch 15/50 - Train RMSPE: 0.256896 - Validation RMSPE: 0.250765 - Time: 436.36s\n",
      "❗ No improvement for 4 epoch(s)\n",
      "Epoch 16/50 - Train RMSPE: 0.246105 - Validation RMSPE: 0.254381 - Time: 435.63s\n",
      "❗ No improvement for 5 epoch(s)\n",
      "Epoch 17/50 - Train RMSPE: 0.246358 - Validation RMSPE: 0.243315 - Time: 435.92s\n",
      "❗ No improvement for 6 epoch(s)\n",
      "Epoch 18/50 - Train RMSPE: 0.246145 - Validation RMSPE: 0.238869 - Time: 435.99s\n",
      "✅ Best model saved (Validation RMSPE: 0.238869)\n",
      "Epoch 19/50 - Train RMSPE: 0.245671 - Validation RMSPE: 0.264296 - Time: 435.08s\n",
      "❗ No improvement for 1 epoch(s)\n",
      "Epoch 20/50 - Train RMSPE: 0.244879 - Validation RMSPE: 0.250895 - Time: 435.31s\n",
      "❗ No improvement for 2 epoch(s)\n",
      "Epoch 21/50 - Train RMSPE: 0.245364 - Validation RMSPE: 0.245813 - Time: 435.31s\n",
      "❗ No improvement for 3 epoch(s)\n",
      "Epoch 22/50 - Train RMSPE: 0.244588 - Validation RMSPE: 0.241848 - Time: 434.92s\n",
      "❗ No improvement for 4 epoch(s)\n",
      "Epoch 23/50 - Train RMSPE: 0.239310 - Validation RMSPE: 0.239299 - Time: 435.14s\n",
      "❗ No improvement for 5 epoch(s)\n",
      "Epoch 24/50 - Train RMSPE: 0.239330 - Validation RMSPE: 0.236752 - Time: 435.65s\n",
      "✅ Best model saved (Validation RMSPE: 0.236752)\n",
      "Epoch 25/50 - Train RMSPE: 0.239754 - Validation RMSPE: 0.256263 - Time: 435.49s\n",
      "❗ No improvement for 1 epoch(s)\n",
      "Epoch 26/50 - Train RMSPE: 0.238888 - Validation RMSPE: 0.239321 - Time: 435.05s\n",
      "❗ No improvement for 2 epoch(s)\n",
      "Epoch 27/50 - Train RMSPE: 0.239232 - Validation RMSPE: 0.253706 - Time: 434.93s\n",
      "❗ No improvement for 3 epoch(s)\n",
      "Epoch 28/50 - Train RMSPE: 0.238899 - Validation RMSPE: 0.246512 - Time: 435.34s\n",
      "❗ No improvement for 4 epoch(s)\n",
      "Epoch 29/50 - Train RMSPE: 0.236297 - Validation RMSPE: 0.236510 - Time: 435.25s\n",
      "✅ Best model saved (Validation RMSPE: 0.236510)\n",
      "Epoch 30/50 - Train RMSPE: 0.235960 - Validation RMSPE: 0.237344 - Time: 435.96s\n",
      "❗ No improvement for 1 epoch(s)\n",
      "Epoch 31/50 - Train RMSPE: 0.236296 - Validation RMSPE: 0.236854 - Time: 435.33s\n",
      "❗ No improvement for 2 epoch(s)\n",
      "Epoch 32/50 - Train RMSPE: 0.236419 - Validation RMSPE: 0.236144 - Time: 435.53s\n",
      "✅ Best model saved (Validation RMSPE: 0.236144)\n",
      "Epoch 33/50 - Train RMSPE: 0.236015 - Validation RMSPE: 0.238909 - Time: 434.48s\n",
      "❗ No improvement for 1 epoch(s)\n",
      "Epoch 34/50 - Train RMSPE: 0.236124 - Validation RMSPE: 0.236552 - Time: 435.00s\n",
      "❗ No improvement for 2 epoch(s)\n",
      "Epoch 35/50 - Train RMSPE: 0.236159 - Validation RMSPE: 0.241030 - Time: 435.23s\n",
      "❗ No improvement for 3 epoch(s)\n",
      "Epoch 36/50 - Train RMSPE: 0.236189 - Validation RMSPE: 0.236654 - Time: 435.12s\n",
      "❗ No improvement for 4 epoch(s)\n",
      "Epoch 37/50 - Train RMSPE: 0.234350 - Validation RMSPE: 0.237744 - Time: 435.29s\n",
      "❗ No improvement for 5 epoch(s)\n",
      "Epoch 38/50 - Train RMSPE: 0.234608 - Validation RMSPE: 0.237333 - Time: 434.51s\n",
      "❗ No improvement for 6 epoch(s)\n",
      "Epoch 39/50 - Train RMSPE: 0.234269 - Validation RMSPE: 0.236451 - Time: 435.10s\n",
      "❗ No improvement for 7 epoch(s)\n",
      "Epoch 40/50 - Train RMSPE: 0.234337 - Validation RMSPE: 0.240834 - Time: 435.07s\n",
      "❗ No improvement for 8 epoch(s)\n",
      "Epoch 41/50 - Train RMSPE: 0.233461 - Validation RMSPE: 0.236778 - Time: 434.80s\n",
      "❗ No improvement for 9 epoch(s)\n",
      "Epoch 42/50 - Train RMSPE: 0.233429 - Validation RMSPE: 0.236820 - Time: 434.67s\n",
      "❗ No improvement for 10 epoch(s)\n",
      "⏹️ Early stopping after 10 epochs without improvement.\n",
      "✅ Best model reloaded for final test/inference.\n"
     ]
    }
   ],
   "source": [
    "#train the neural network, done on kaggle using GPU, we have saved the model and loaded directly in the next cell, no need to train again\n",
    "import torch\n",
    "import time\n",
    "\n",
    "device = torch.device(\"cuda\" if torch.cuda.is_available() else \"cpu\")\n",
    "print(f\"✅ Using device: {device}\")\n",
    "\n",
    "model = LSTMRegressor(input_dim=6).to(device)\n",
    "\n",
    "criterion = RMSPELoss()\n",
    "optimizer = torch.optim.Adam(model.parameters(), lr=1e-3)\n",
    "\n",
    "scheduler = torch.optim.lr_scheduler.ReduceLROnPlateau(optimizer, mode='min', factor=0.5, patience=3)\n",
    "\n",
    "# Early stopping parameters\n",
    "best_val_loss = float('inf')\n",
    "save_path = 'best_model.pth'\n",
    "patience = 10\n",
    "no_improve_epochs = 0\n",
    "\n",
    "epochs = 50\n",
    "\n",
    "for epoch in range(epochs):\n",
    "    torch.cuda.synchronize() if torch.cuda.is_available() else None\n",
    "    start_time = time.time()\n",
    "\n",
    "    # --- Training ---\n",
    "    model.train()\n",
    "    running_loss = 0.0\n",
    "    for x_padded, y_batch, lengths in train_loader:\n",
    "        x_padded, y_batch, lengths = x_padded.to(device), y_batch.to(device), lengths.to(device)\n",
    "        optimizer.zero_grad()\n",
    "        y_pred = model(x_padded, lengths)\n",
    "        loss = criterion(y_pred, y_batch)\n",
    "        loss.backward()\n",
    "        optimizer.step()\n",
    "        running_loss += loss.item()\n",
    "\n",
    "    avg_train_loss = running_loss / len(train_loader)\n",
    "\n",
    "    # --- Validation ---\n",
    "    model.eval()\n",
    "    val_loss = 0.0\n",
    "    with torch.no_grad():\n",
    "        for x_padded, y_batch, lengths in val_loader:\n",
    "            x_padded, y_batch, lengths = x_padded.to(device), y_batch.to(device), lengths.to(device)\n",
    "            y_pred = model(x_padded, lengths)\n",
    "            loss = criterion(y_pred, y_batch)\n",
    "            val_loss += loss.item()\n",
    "    avg_val_loss = val_loss / len(val_loader)\n",
    "\n",
    "    scheduler.step(avg_val_loss)  \n",
    "    # --- Timer ---\n",
    "    torch.cuda.synchronize() if torch.cuda.is_available() else None\n",
    "    epoch_duration = time.time() - start_time\n",
    "\n",
    "    # --- Print ---\n",
    "    print(f\"Epoch {epoch+1}/{epochs} - Train RMSPE: {avg_train_loss:.6f} - Validation RMSPE: {avg_val_loss:.6f} - Time: {epoch_duration:.2f}s\")\n",
    "\n",
    "    # --- Early stopping ---\n",
    "    if avg_val_loss < best_val_loss:\n",
    "        best_val_loss = avg_val_loss\n",
    "        torch.save(model.state_dict(), save_path)\n",
    "        no_improve_epochs = 0\n",
    "        print(f\"✅ Best model saved (Validation RMSPE: {avg_val_loss:.6f})\")\n",
    "    else:\n",
    "        no_improve_epochs += 1\n",
    "        print(f\"❗ No improvement for {no_improve_epochs} epoch(s)\")\n",
    "\n",
    "    if no_improve_epochs >= patience:\n",
    "        print(f\"⏹️ Early stopping after {patience} epochs without improvement.\")\n",
    "        break\n",
    "\n",
    "# Reload best model\n",
    "model.load_state_dict(torch.load(save_path))\n",
    "print(\"✅ Best model reloaded for final test/inference.\")\n"
   ]
  },
  {
   "cell_type": "code",
   "execution_count": null,
   "metadata": {
    "execution": {
     "iopub.execute_input": "2025-05-18T12:36:05.862578Z",
     "iopub.status.busy": "2025-05-18T12:36:05.862074Z",
     "iopub.status.idle": "2025-05-18T12:36:32.157652Z",
     "shell.execute_reply": "2025-05-18T12:36:32.156809Z",
     "shell.execute_reply.started": "2025-05-18T12:36:05.862555Z"
    },
    "trusted": true
   },
   "outputs": [
    {
     "name": "stdout",
     "output_type": "stream",
     "text": [
      "✅ Final Test RMSPE: 0.234886\n"
     ]
    }
   ],
   "source": [
    "#testing of the model\n",
    "model = LSTMRegressor(input_dim=6)\n",
    "model.load_state_dict(torch.load('Batch_64_LR_SP_V10_V50_K50_SB_32_0.2_4.pth', map_location=torch.device('cpu')))\n",
    "model.eval()\n",
    "criterion = RMSPELoss()\n",
    "\n",
    "test_loss = 0.0\n",
    "with torch.no_grad():\n",
    "    for x_padded, y_batch, lengths in test_loader:\n",
    "        x_padded, y_batch, lengths = x_padded, y_batch, lengths\n",
    "        y_pred = model(x_padded, lengths)\n",
    "        loss = criterion(y_pred, y_batch)\n",
    "        test_loss += loss.item()\n",
    "\n",
    "avg_test_loss = test_loss / len(test_loader)\n",
    "print(f\"✅ Final Test RMSPE: {avg_test_loss:.6f}\")\n"
   ]
  },
  {
   "cell_type": "code",
   "execution_count": null,
   "metadata": {},
   "outputs": [],
   "source": [
    "\n",
    "import numpy as np\n",
    "import torch\n",
    "import matplotlib.pyplot as plt\n",
    "\n",
    "def rmspe(y_true, y_pred):\n",
    "    pct_error = (y_pred - y_true) / (y_true + 1e-6)\n",
    "    return torch.sqrt(torch.mean(pct_error ** 2)).item()"
   ]
  },
  {
   "cell_type": "code",
   "execution_count": null,
   "metadata": {
    "execution": {
     "iopub.execute_input": "2025-05-18T12:22:40.545511Z",
     "iopub.status.busy": "2025-05-18T12:22:40.545291Z",
     "iopub.status.idle": "2025-05-18T12:22:40.562147Z",
     "shell.execute_reply": "2025-05-18T12:22:40.561594Z",
     "shell.execute_reply.started": "2025-05-18T12:22:40.545491Z"
    },
    "trusted": true
   },
   "outputs": [],
   "source": [
    "# Evaluate permutation importance by zeroing out the selected feature and measuring the increase in validation loss (RMSPE) compared to the baseline\n",
    "def permutation_importance(model, data_loader, base_val_loss, feature_idx):\n",
    "    delta_losses = []\n",
    "\n",
    "    for x_padded, y_batch, lengths in data_loader:\n",
    "        x_padded, y_batch, lengths = x_padded, y_batch, lengths\n",
    "\n",
    "        x_padded[:, :, feature_idx] = 0.0\n",
    "\n",
    "        with torch.no_grad():\n",
    "            y_pred = model(x_padded, lengths)\n",
    "\n",
    "        loss = rmspe(y_batch, y_pred)\n",
    "        delta_losses.append(loss)\n",
    "\n",
    "    delta_loss = np.mean(delta_losses) - base_val_loss\n",
    "    return delta_loss"
   ]
  },
  {
   "cell_type": "code",
   "execution_count": null,
   "metadata": {
    "execution": {
     "iopub.execute_input": "2025-05-18T12:22:40.563094Z",
     "iopub.status.busy": "2025-05-18T12:22:40.562857Z",
     "iopub.status.idle": "2025-05-18T12:22:40.579771Z",
     "shell.execute_reply": "2025-05-18T12:22:40.579102Z",
     "shell.execute_reply.started": "2025-05-18T12:22:40.563074Z"
    },
    "trusted": true
   },
   "outputs": [],
   "source": [
    "def evaluate_feature_importance(model, val_loader, feature_names):\n",
    "    model.eval()\n",
    "    y_preds = []\n",
    "    y_trues = []\n",
    "    with torch.no_grad():\n",
    "        for x_padded, y_batch, lengths in val_loader:\n",
    "            x_padded, y_batch, lengths = x_padded, y_batch, lengths\n",
    "            y_pred = model(x_padded, lengths)\n",
    "            y_preds.append(y_pred.cpu())\n",
    "            y_trues.append(y_batch.cpu())\n",
    "\n",
    "    y_preds = torch.cat(y_preds)\n",
    "    y_trues = torch.cat(y_trues)\n",
    "    base_val_loss = rmspe(y_trues, y_preds)\n",
    "\n",
    "    print(f\"Baseline Validation RMSPE: {base_val_loss:.6f}\")\n",
    "\n",
    "    # Feature Importance calculation\n",
    "    importance_scores = []\n",
    "    for idx, feature_name in enumerate(feature_names):\n",
    "        delta = permutation_importance(model, val_loader, base_val_loss, idx)\n",
    "        importance_scores.append(delta)\n",
    "        print(f\"Feature: {feature_name} ➔ Delta RMSPE: {delta:.6f}\")\n",
    "\n",
    "    # Barplot\n",
    "    sorted_indices = np.argsort(importance_scores)[::-1]\n",
    "    plt.figure(figsize=(10, 6))\n",
    "    bars = plt.barh([feature_names[i] for i in sorted_indices], [importance_scores[i] for i in sorted_indices], color='skyblue')\n",
    "\n",
    "    for bar, delta in zip(bars, [importance_scores[i] for i in sorted_indices]):\n",
    "        if delta < 0:\n",
    "            bar.set_color('salmon')\n",
    "\n",
    "    plt.xlabel('Increase in RMSPE (Feature Importance)')\n",
    "    plt.title('Feature Importance via Permutation')\n",
    "    plt.gca().invert_yaxis()\n",
    "    plt.grid(True)\n",
    "    plt.show()"
   ]
  },
  {
   "cell_type": "code",
   "execution_count": null,
   "metadata": {
    "execution": {
     "iopub.execute_input": "2025-05-18T12:22:40.580947Z",
     "iopub.status.busy": "2025-05-18T12:22:40.580544Z",
     "iopub.status.idle": "2025-05-18T12:25:45.010229Z",
     "shell.execute_reply": "2025-05-18T12:25:45.009453Z",
     "shell.execute_reply.started": "2025-05-18T12:22:40.580922Z"
    },
    "trusted": true
   },
   "outputs": [
    {
     "name": "stdout",
     "output_type": "stream",
     "text": [
      "Baseline Validation RMSPE: 0.235795\n",
      "Feature: log_return ➔ Delta RMSPE: 0.028345\n",
      "Feature: spread ➔ Delta RMSPE: 0.051084\n",
      "Feature: rolling_vol ➔ Delta RMSPE: 0.128037\n",
      "Feature: rolling_vol_50 ➔ Delta RMSPE: 0.265333\n",
      "Feature: rolling_kurtosis_50 ➔ Delta RMSPE: 0.012734\n",
      "Feature: seconds_in_bucket ➔ Delta RMSPE: 0.009023\n"
     ]
    },
    {
     "data": {
      "image/png": "[encoded data removed]",
      "text/plain": [
       "<Figure size 1000x600 with 1 Axes>"
      ]
     },
     "metadata": {},
     "output_type": "display_data"
    }
   ],
   "source": [
    "feature_names = features_list =['log_return', 'spread','rolling_vol', 'rolling_vol_50', 'rolling_kurtosis_50', 'seconds_in_bucket']\n",
    "evaluate_feature_importance(model, val_loader, feature_names)\n",
    "# The rolling volatility is the most important feature used by the model"
   ]
  }
 ],
 "metadata": {
  "kaggle": {
   "accelerator": "gpu",
   "dataSources": [
    {
     "databundleVersionId": 2344753,
     "sourceId": 27233,
     "sourceType": "competition"
    },
    {
     "datasetId": 7400089,
     "sourceId": 11786032,
     "sourceType": "datasetVersion"
    }
   ],
   "dockerImageVersionId": 31041,
   "isGpuEnabled": true,
   "isInternetEnabled": false,
   "language": "python",
   "sourceType": "notebook"
  },
  "kernelspec": {
   "display_name": "Python 3",
   "language": "python",
   "name": "python3"
  },
  "language_info": {
   "codemirror_mode": {
    "name": "ipython",
    "version": 3
   },
   "file_extension": ".py",
   "mimetype": "text/x-python",
   "name": "python",
   "nbconvert_exporter": "python",
   "pygments_lexer": "ipython3",
   "version": "3.12.5"
  }
 },
 "nbformat": 4,
 "nbformat_minor": 4
}
